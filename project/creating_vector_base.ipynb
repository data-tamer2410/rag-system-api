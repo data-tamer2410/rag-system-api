{
  "nbformat": 4,
  "nbformat_minor": 0,
  "metadata": {
    "colab": {
      "provenance": [],
      "gpuType": "T4",
      "include_colab_link": true
    },
    "kernelspec": {
      "name": "python3",
      "display_name": "Python 3"
    },
    "language_info": {
      "name": "python"
    },
    "accelerator": "GPU"
  },
  "cells": [
    {
      "cell_type": "markdown",
      "metadata": {
        "id": "view-in-github",
        "colab_type": "text"
      },
      "source": [
        "<a href=\"https://colab.research.google.com/github/data-tamer2410/rag-system-api/blob/master/project/creating_vector_base.ipynb\" target=\"_parent\"><img src=\"https://colab.research.google.com/assets/colab-badge.svg\" alt=\"Open In Colab\"/></a>"
      ]
    },
    {
      "cell_type": "markdown",
      "source": [
        "# Description:\n",
        "In this file, I will load and process texts for the knowledge base, and then directly upload all the texts into the database."
      ],
      "metadata": {
        "id": "UnKoc1TVIrtR"
      }
    },
    {
      "cell_type": "code",
      "source": [
        "import faiss\n",
        "import pickle\n",
        "import re\n",
        "import matplotlib.pyplot as plt\n",
        "from sklearn.cluster import KMeans\n",
        "from sentence_transformers import SentenceTransformer"
      ],
      "metadata": {
        "id": "akcSNcaJMcDu"
      },
      "execution_count": null,
      "outputs": []
    },
    {
      "cell_type": "code",
      "source": [
        "# Loading texts.\n",
        "with open('AllCombined.txt','r',encoding='utf-8') as f:\n",
        "    data = f.read()"
      ],
      "metadata": {
        "id": "vIn_dVwTKEU_"
      },
      "execution_count": null,
      "outputs": []
    },
    {
      "cell_type": "code",
      "source": [
        "# Total number of characters.\n",
        "len(data)"
      ],
      "metadata": {
        "id": "fXJF6BwUMFpU",
        "colab": {
          "base_uri": "https://localhost:8080/"
        },
        "outputId": "8bd3be8c-9b37-4c16-a9bc-b5adeaf560b6"
      },
      "execution_count": null,
      "outputs": [
        {
          "output_type": "execute_result",
          "data": {
            "text/plain": [
              "178255102"
            ]
          },
          "metadata": {},
          "execution_count": 10
        }
      ]
    },
    {
      "cell_type": "code",
      "source": [
        "# We are splitting the overall text into separate texts by headings.\n",
        "pattern = r'\\n\\n([A-Z0-9][^\\n]{1,49})\\n'\n",
        "texts = re.split(pattern=pattern, string=data)\n",
        "len(texts)"
      ],
      "metadata": {
        "colab": {
          "base_uri": "https://localhost:8080/"
        },
        "id": "s21C8p58P5Sc",
        "outputId": "5b03d645-c5ef-489e-81b7-7d0d308372f8"
      },
      "execution_count": null,
      "outputs": [
        {
          "output_type": "execute_result",
          "data": {
            "text/plain": [
              "543429"
            ]
          },
          "metadata": {},
          "execution_count": 16
        }
      ]
    },
    {
      "cell_type": "code",
      "source": [
        "# We are removing very small texts.\n",
        "min_length = 500\n",
        "texts = [text.strip() for text in texts if len(text.strip()) >= min_length]\n",
        "len(texts)"
      ],
      "metadata": {
        "colab": {
          "base_uri": "https://localhost:8080/"
        },
        "id": "9mGbFqyiT0mE",
        "outputId": "2e2d0dfc-6b6e-4750-cc37-fbf1971e28f6"
      },
      "execution_count": null,
      "outputs": [
        {
          "output_type": "execute_result",
          "data": {
            "text/plain": [
              "87331"
            ]
          },
          "metadata": {},
          "execution_count": 17
        }
      ]
    },
    {
      "cell_type": "code",
      "source": [
        "# Saving all texts.\n",
        "with open('sentences_base.pkl','wb') as f:\n",
        "    pickle.dump(texts,f)"
      ],
      "metadata": {
        "id": "RMpYnvUdpOX2"
      },
      "execution_count": null,
      "outputs": []
    },
    {
      "cell_type": "code",
      "source": [
        "# Loading the encoder.\n",
        "encoder = SentenceTransformer('sentence-transformers/all-MiniLM-L6-v2')"
      ],
      "metadata": {
        "id": "htttpzy1y45N"
      },
      "execution_count": null,
      "outputs": []
    },
    {
      "cell_type": "code",
      "source": [
        "# Encoding texts into vectors.\n",
        "embeddings = encoder.encode(texts,batch_size=128,convert_to_numpy=True,show_progress_bar=True)"
      ],
      "metadata": {
        "id": "SUTbFp7M_oYr"
      },
      "execution_count": null,
      "outputs": []
    },
    {
      "cell_type": "code",
      "source": [
        "# The size of the final vector matrix.\n",
        "embeddings.shape"
      ],
      "metadata": {
        "colab": {
          "base_uri": "https://localhost:8080/"
        },
        "id": "hDIuGobTRlJQ",
        "outputId": "37447090-afba-4025-839d-b06187447f34"
      },
      "execution_count": null,
      "outputs": [
        {
          "output_type": "execute_result",
          "data": {
            "text/plain": [
              "(87331, 384)"
            ]
          },
          "metadata": {},
          "execution_count": 20
        }
      ]
    },
    {
      "cell_type": "markdown",
      "source": [
        "I am going to use the IndexIVFFlat index for the knowledge base to speed up the inference stage of our future RAG system."
      ],
      "metadata": {
        "id": "ixX7frknYWyw"
      }
    },
    {
      "cell_type": "code",
      "source": [
        "# We will determine the optimal number of clusters using the elbow method.\n",
        "k_range = range(1,101,10)\n",
        "inertia = []\n",
        "for k in k_range:\n",
        "    model = KMeans(n_clusters=k,random_state=1)\n",
        "    model.fit(embeddings)\n",
        "    inertia.append(model.inertia_)\n",
        "\n",
        "plt.figure(figsize=(12,5))\n",
        "plt.plot(k_range,inertia,marker='o',markersize=4,mfc='r',zorder=3)\n",
        "plt.xticks(k_range)\n",
        "plt.xlabel('Number of clusters')\n",
        "plt.ylabel('Inertia')\n",
        "plt.title('Elbow Method')\n",
        "\n",
        "plt.tight_layout()\n",
        "plt.grid(zorder=1)\n",
        "plt.show()"
      ],
      "metadata": {
        "colab": {
          "base_uri": "https://localhost:8080/",
          "height": 507
        },
        "id": "i6AOzLiUCqYU",
        "outputId": "a6cb1aee-2c43-4e9b-8656-f54836d56665"
      },
      "execution_count": null,
      "outputs": [
        {
          "output_type": "display_data",
          "data": {
            "text/plain": [
              "<Figure size 1200x500 with 1 Axes>"
            ],
            "image/png": "[encoded data removed]"
          },
          "metadata": {}
        }
      ]
    },
    {
      "cell_type": "markdown",
      "source": [
        "The optimal value will be approximately 10 clusters."
      ],
      "metadata": {
        "id": "KLP7_-fpIr3M"
      }
    },
    {
      "cell_type": "code",
      "source": [
        "# Creating a cluster index.\n",
        "nlist = 10\n",
        "d = embeddings.shape[1]\n",
        "quantizer = faiss.IndexFlatL2(d)\n",
        "index = faiss.IndexIVFFlat(quantizer, d, nlist)"
      ],
      "metadata": {
        "id": "PmMvV_v4ZLh_"
      },
      "execution_count": null,
      "outputs": []
    },
    {
      "cell_type": "code",
      "source": [
        "# Training the index.\n",
        "index.train(embeddings)"
      ],
      "metadata": {
        "id": "AIaATIEBdJl_"
      },
      "execution_count": null,
      "outputs": []
    },
    {
      "cell_type": "code",
      "source": [
        "# Adding the vectors to the index.\n",
        "index.add(embeddings)"
      ],
      "metadata": {
        "id": "NwCQTEH3dS9y"
      },
      "execution_count": null,
      "outputs": []
    },
    {
      "cell_type": "code",
      "source": [
        "# Saving the knowledge base to a file.\n",
        "faiss.write_index(index, \"vector_base.idx\")"
      ],
      "metadata": {
        "id": "n-QD4s_vKE4V"
      },
      "execution_count": null,
      "outputs": []
    },
    {
      "cell_type": "code",
      "source": [
        "# Testing the knowledge base.\n",
        "query = 'Tell me about the most famous football player.'\n",
        "query_vector = encoder.encode(query,convert_to_numpy=True)\n",
        "query_vector = query_vector.reshape((1,-1))"
      ],
      "metadata": {
        "id": "gLRNUVrueHxS"
      },
      "execution_count": null,
      "outputs": []
    },
    {
      "cell_type": "code",
      "source": [
        "d, indices = index.search(query_vector, 1)"
      ],
      "metadata": {
        "id": "Zf7ORh2kfIeN"
      },
      "execution_count": null,
      "outputs": []
    },
    {
      "cell_type": "code",
      "source": [
        "# The minimum distance between the vector of our query and the vector of the knowledge base.\n",
        "d"
      ],
      "metadata": {
        "colab": {
          "base_uri": "https://localhost:8080/"
        },
        "id": "pQ8wKa7ufati",
        "outputId": "4eb5d696-9313-4d81-efc6-7ede53440f86"
      },
      "execution_count": null,
      "outputs": [
        {
          "output_type": "execute_result",
          "data": {
            "text/plain": [
              "array([[0.9667672]], dtype=float32)"
            ]
          },
          "metadata": {},
          "execution_count": 71
        }
      ]
    },
    {
      "cell_type": "code",
      "source": [
        "# Let's see the result.\n",
        "print(texts[indices[0][0]])"
      ],
      "metadata": {
        "colab": {
          "base_uri": "https://localhost:8080/"
        },
        "id": "2w1V4TA1GZJ6",
        "outputId": "ca45b907-9055-4c35-fe33-455d508cc885"
      },
      "execution_count": null,
      "outputs": [
        {
          "output_type": "stream",
          "name": "stdout",
          "text": [
            "Ronaldo de Assis Moreira (born 21 March 1980), more commonly known as Ronaldinho, or Ronaldinho Gaúcho, is a retired Brazilian footballer. Considered the best player in world football for several years, he is regarded as one of the greatest footballers of all time, and by some, as the greatest ever. He was known for his dribbling, passing, flair, skills, and ability to create and score goals, all prominent characteristics of his early-age background playing futsal. He is the only player ever to have won a World Cup, a Copa América, a Confederations Cup, a Champions League, a Copa Libertadores and a Ballon d'Or.\n",
            "At club level, he is best known for playing for F.C. Barcelona. After scoring two solo goals in the first 2005–06 El Clásico, he became the second Barcelona player, after Diego Maradona in 1983, to receive a standing ovation from Real Madrid fans at the Santiago Bernabéu. In 2009, he was voted \"World Player of the Decade 2000s\", ahead of Lionel Messi and Cristiano Ronaldo. In Brazil, his admirers and supporters call him \"O Bruxo\" (\"The Wizard\"). \n",
            "\n",
            "After a successful club career at F.C. Barcelona, Ronaldinho was appointed ambassador of the club in September 2016.\n"
          ]
        }
      ]
    },
    {
      "cell_type": "markdown",
      "source": [
        "## Conclusion"
      ],
      "metadata": {
        "id": "0FLzzHINhxv2"
      }
    },
    {
      "cell_type": "markdown",
      "source": [
        "In this file, I have correctly prepared the data for uploading to the vector database, which improves the accuracy of the final result. I also applied the cluster index technique to search for the corresponding vectors in the knowledge base, which will significantly speed up the inference process."
      ],
      "metadata": {
        "id": "0m4lckTqiNpL"
      }
    }
  ]
}